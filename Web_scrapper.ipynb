{
 "cells": [
  {
   "cell_type": "markdown",
   "metadata": {},
   "source": [
    "### <b>AN ANALYSIS OF THE DISTRIBUTION OF JUMIA KENYA OFFERS ACROSS ITS PRODUCT CATEGORIES.</b>\n",
    "\n",
    "                                         by\n",
    "\n",
    "                                Jacktone Etemesi\n",
    "\n",
    "                                Phone: +25408578181\n",
    "\n",
    "                        email: jacktoneetemesi1@gmail.com\n"
   ]
  },
  {
   "cell_type": "markdown",
   "metadata": {},
   "source": [
    "##### This project will utilize the following data science concepts.\n",
    "\n",
    "1. <b>Data mining and web scraping\n",
    "2. Database management.\n",
    "3. Data cleaning\n",
    "4. Data Visualization\n",
    "5. Data analysis- Regression analysis</b>"
   ]
  },
  {
   "cell_type": "markdown",
   "metadata": {},
   "source": [
    "## STEP 1: Mining Our Data\n",
    "\n",
    "This section covers the following:\n",
    "\n",
    "1. Creating an sqlite3 database to store the scraped data.\n",
    "2. Scraping data from our target website (www.jumia.co.ke) using Beautifulsoup\n"
   ]
  },
  {
   "cell_type": "code",
   "execution_count": 87,
   "metadata": {},
   "outputs": [],
   "source": [
    "import numpy as np\n",
    "import pandas as pd\n",
    "import requests \n",
    "from bs4 import BeautifulSoup\n",
    "import sqlite3 as sql\n"
   ]
  },
  {
   "cell_type": "code",
   "execution_count": 88,
   "metadata": {},
   "outputs": [
    {
     "data": {
      "text/plain": [
       "<sqlite3.Cursor at 0x24cadac7ea0>"
      ]
     },
     "execution_count": 88,
     "metadata": {},
     "output_type": "execute_result"
    }
   ],
   "source": [
    "#creating an sqlite3 database to save the scrapped data\n",
    "conn=sql.connect('Offers.db')\n",
    "curs=conn.cursor()\n",
    "curs.execute('''CREATE TABLE IF NOT EXISTS Jumia_products (Name VACHAR, Brand VARCHAR, Category VARCHAR, Shipping TEXT, Price INT, Offer INT, Discount INT )''')\n"
   ]
  },
  {
   "cell_type": "code",
   "execution_count": 89,
   "metadata": {},
   "outputs": [
    {
     "name": "stdout",
     "output_type": "stream",
     "text": [
      "Scraping data from page 1\n",
      "Scraping data from page 2\n",
      "Scraping data from page 3\n",
      "Scraping data from page 4\n",
      "Scraping data from page 5\n",
      "Scraping data from page 6\n",
      "Scraping data from page 7\n",
      "Scraping data from page 8\n",
      "Scraping data from page 9\n",
      "Scraping data from page 10\n",
      "Scraping data from page 11\n",
      "Scraping data from page 12\n",
      "Scraping data from page 13\n",
      "Scraping data from page 14\n",
      "Scraping data from page 15\n",
      "Scraping data from page 16\n",
      "Scraping data from page 17\n",
      "Scraping data from page 18\n",
      "Scraping data from page 19\n",
      "Scraping data from page 20\n",
      "Scraping data from page 21\n",
      "Scraping data from page 22\n",
      "Scraping data from page 23\n",
      "Scraping data from page 24\n",
      "Scraping data from page 25\n",
      "Scraping data from page 26\n",
      "Scraping data from page 27\n",
      "Scraping data from page 28\n",
      "Scraping data from page 29\n",
      "Scraping data from page 30\n",
      "Scraping data from page 31\n",
      "Scraping data from page 32\n",
      "Scraping data from page 33\n",
      "Scraping data from page 34\n",
      "Scraping data from page 35\n",
      "Scraping data from page 36\n",
      "Scraping data from page 37\n",
      "Scraping data from page 38\n",
      "Scraping data from page 39\n",
      "Scraping data from page 40\n",
      "Scraping data from page 41\n",
      "Scraping data from page 42\n",
      "Scraping data from page 43\n",
      "Scraping data from page 44\n",
      "Scraping data from page 45\n",
      "Scraping data from page 46\n"
     ]
    }
   ],
   "source": [
    "#creating a loop of all the urls containing offers.\n",
    "'''Jumia has a total of 46 pages containing products on offer. We create a loop that fetches all these pages' urls and downloads the page content'''\n",
    "def url_fetcher():\n",
    "    base_url='https://www.jumia.co.ke/catalog/?q=offers'\n",
    "    for id in range (1,47,1):\n",
    "        if id==1:\n",
    "            url=base_url\n",
    "        else:\n",
    "            url='https://www.jumia.co.ke/catalog/?q=offers&page={}#catalog-listing'.format(id)\n",
    "        web_file=requests.get(url)\n",
    "        soup=BeautifulSoup(web_file.text,'lxml')\n",
    "        master=soup.find_all('a',class_='core')\n",
    "        for product in master:\n",
    "            try:\n",
    "                name=product['data-name']\n",
    "                brand=product['data-brand']\n",
    "                category=product['data-category']\n",
    "                img=product.find('img',class_='img')['data-src']\n",
    "                shipping=product.find('div',class_='bdg _glb _xs').text\n",
    "                offer=int(product.find('div',class_='prc').text.replace('KSh',' ').replace(',','').strip())\n",
    "                price=int(product.find('div',class_='old').text.replace('KSh',' ').replace(',','').strip())\n",
    "                discount=int(product.find('div',class_='bdg _dsct _sm').text.replace('%','').strip())\n",
    "                curs.execute('''INSERT INTO Jumia_products (Name,Brand,Category,Shipping,Price,Offer,Discount) VALUES (?,?,?,?,?,?,?)''',(name,brand,category,shipping,price,offer,discount))\n",
    "                #print(name,', ',brand,' ,',category,' ,',img,', ',shipping,', ',offer,', ',price,' ,',discount)\n",
    "            except Exception as e:\n",
    "                pass  \n",
    "        if id <47:\n",
    "            print(f'Scraping data from page {id}')      \n",
    "    conn.commit()\n",
    "url_fetcher()"
   ]
  },
  {
   "cell_type": "code",
   "execution_count": 90,
   "metadata": {},
   "outputs": [],
   "source": [
    "results=curs.execute('''SELECT * FROM Jumia_products''').fetchall()\n",
    "#print(results)\n"
   ]
  },
  {
   "cell_type": "code",
   "execution_count": 91,
   "metadata": {},
   "outputs": [],
   "source": [
    "#Loading the database into a pandas dataframe for analysis\n",
    "conn=sql.connect('Offers.db')\n",
    "df=pd.read_sql_query('SELECT * FROM Jumia_products',conn)"
   ]
  },
  {
   "cell_type": "code",
   "execution_count": 92,
   "metadata": {},
   "outputs": [],
   "source": [
    "# Creating a copy of the data frame for manipulation\n",
    "jumia_offers=df.copy()\n",
    "jumia_offers.drop_duplicates(inplace=True) #takes care of any duplicates that may arise from running the notebook more than once"
   ]
  },
  {
   "cell_type": "markdown",
   "metadata": {},
   "source": [
    "## STEP 2: Exploratory Data Analysis\n",
    "\n",
    "In this section we'll try to answer the following questions about our dataset.\n",
    "\n",
    "1. How many rows and columns does our dataset have?\n",
    "2. How many unique product categories does our dataset have?\n",
    "3. What is our dataset's statistical summary?\n",
    "4. What data types does each column have?"
   ]
  },
  {
   "cell_type": "code",
   "execution_count": 93,
   "metadata": {},
   "outputs": [
    {
     "data": {
      "text/plain": [
       "(1115, 7)"
      ]
     },
     "execution_count": 93,
     "metadata": {},
     "output_type": "execute_result"
    }
   ],
   "source": [
    "#Checking for the number of rows and columns\n",
    "jumia_offers.shape\n",
    "#Our dataset has 1,533 row entries and 7 columns"
   ]
  },
  {
   "cell_type": "code",
   "execution_count": 94,
   "metadata": {},
   "outputs": [
    {
     "name": "stdout",
     "output_type": "stream",
     "text": [
      "<class 'pandas.core.frame.DataFrame'>\n",
      "Int64Index: 1115 entries, 0 to 1539\n",
      "Data columns (total 7 columns):\n",
      " #   Column    Non-Null Count  Dtype \n",
      "---  ------    --------------  ----- \n",
      " 0   Name      1115 non-null   object\n",
      " 1   Brand     1115 non-null   object\n",
      " 2   Category  1115 non-null   object\n",
      " 3   Shipping  1115 non-null   object\n",
      " 4   Price     1115 non-null   int64 \n",
      " 5   Offer     1115 non-null   int64 \n",
      " 6   Discount  1115 non-null   int64 \n",
      "dtypes: int64(3), object(4)\n",
      "memory usage: 69.7+ KB\n"
     ]
    }
   ],
   "source": [
    "#Checking for columns and respective data types\n",
    "jumia_offers.info()"
   ]
  },
  {
   "cell_type": "code",
   "execution_count": 95,
   "metadata": {},
   "outputs": [
    {
     "data": {
      "text/html": [
       "<div>\n",
       "<style scoped>\n",
       "    .dataframe tbody tr th:only-of-type {\n",
       "        vertical-align: middle;\n",
       "    }\n",
       "\n",
       "    .dataframe tbody tr th {\n",
       "        vertical-align: top;\n",
       "    }\n",
       "\n",
       "    .dataframe thead th {\n",
       "        text-align: right;\n",
       "    }\n",
       "</style>\n",
       "<table border=\"1\" class=\"dataframe\">\n",
       "  <thead>\n",
       "    <tr style=\"text-align: right;\">\n",
       "      <th></th>\n",
       "      <th>Price</th>\n",
       "      <th>Offer</th>\n",
       "      <th>Discount</th>\n",
       "    </tr>\n",
       "  </thead>\n",
       "  <tbody>\n",
       "    <tr>\n",
       "      <th>count</th>\n",
       "      <td>1115.000000</td>\n",
       "      <td>1115.000000</td>\n",
       "      <td>1115.000000</td>\n",
       "    </tr>\n",
       "    <tr>\n",
       "      <th>mean</th>\n",
       "      <td>5939.849327</td>\n",
       "      <td>3760.712108</td>\n",
       "      <td>33.235874</td>\n",
       "    </tr>\n",
       "    <tr>\n",
       "      <th>std</th>\n",
       "      <td>8104.158760</td>\n",
       "      <td>4722.881014</td>\n",
       "      <td>12.225843</td>\n",
       "    </tr>\n",
       "    <tr>\n",
       "      <th>min</th>\n",
       "      <td>172.000000</td>\n",
       "      <td>86.000000</td>\n",
       "      <td>10.000000</td>\n",
       "    </tr>\n",
       "    <tr>\n",
       "      <th>25%</th>\n",
       "      <td>2042.000000</td>\n",
       "      <td>1475.000000</td>\n",
       "      <td>23.000000</td>\n",
       "    </tr>\n",
       "    <tr>\n",
       "      <th>50%</th>\n",
       "      <td>3545.000000</td>\n",
       "      <td>2289.000000</td>\n",
       "      <td>26.000000</td>\n",
       "    </tr>\n",
       "    <tr>\n",
       "      <th>75%</th>\n",
       "      <td>6148.000000</td>\n",
       "      <td>3971.500000</td>\n",
       "      <td>50.000000</td>\n",
       "    </tr>\n",
       "    <tr>\n",
       "      <th>max</th>\n",
       "      <td>78498.000000</td>\n",
       "      <td>39249.000000</td>\n",
       "      <td>50.000000</td>\n",
       "    </tr>\n",
       "  </tbody>\n",
       "</table>\n",
       "</div>"
      ],
      "text/plain": [
       "              Price         Offer     Discount\n",
       "count   1115.000000   1115.000000  1115.000000\n",
       "mean    5939.849327   3760.712108    33.235874\n",
       "std     8104.158760   4722.881014    12.225843\n",
       "min      172.000000     86.000000    10.000000\n",
       "25%     2042.000000   1475.000000    23.000000\n",
       "50%     3545.000000   2289.000000    26.000000\n",
       "75%     6148.000000   3971.500000    50.000000\n",
       "max    78498.000000  39249.000000    50.000000"
      ]
     },
     "execution_count": 95,
     "metadata": {},
     "output_type": "execute_result"
    }
   ],
   "source": [
    "# Statistical summary\n",
    "jumia_offers.describe()"
   ]
  },
  {
   "cell_type": "code",
   "execution_count": 96,
   "metadata": {},
   "outputs": [
    {
     "data": {
      "text/plain": [
       "161"
      ]
     },
     "execution_count": 96,
     "metadata": {},
     "output_type": "execute_result"
    }
   ],
   "source": [
    "# Checking for unique product categories\n",
    "jumia_offers['Category'].nunique()\n",
    "#our dataset has 161 unique product categogies"
   ]
  },
  {
   "cell_type": "code",
   "execution_count": 97,
   "metadata": {},
   "outputs": [
    {
     "data": {
      "text/plain": [
       "Automobile/Motorcycle & Powersports/Accessories/Stands                                                192\n",
       "Home & Office/Home & Kitchen/Home Decor/Home Décor Accents/Decorative Accessories/Decorative Bowls     97\n",
       "Home & Office/Tools & Home Improvement/Power & Hand Tools/Gardening Tools                              75\n",
       "Toys & Games/Learning & Education/Reading & Writing/Diaries, Journals & Notebooks                      36\n",
       "Home & Office/Home & Kitchen/Kitchen & Dining/Bakeware/Bakers & Casseroles                             26\n",
       "                                                                                                     ... \n",
       "Automobile/Replacement Parts/Belts, Hoses & Pulleys/Belts                                               1\n",
       "Home & Office/Home & Kitchen/Kitchen & Dining/Kitchen Utensils & Gadgets                                1\n",
       "Home & Office/Home & Furniture/Lighting/Lighting Bulbs & Component                                      1\n",
       "Toys & Games/Hobbies/Remote & App Controlled Vehicles & Parts                                           1\n",
       "Home & Office/Arts, Crafts & Sewing/Needlework/Needle Felting Supplies/Tools                            1\n",
       "Name: Category, Length: 161, dtype: int64"
      ]
     },
     "execution_count": 97,
     "metadata": {},
     "output_type": "execute_result"
    }
   ],
   "source": [
    "#Checking how many times each category has been featured.\n",
    "jumia_offers['Category'].value_counts()"
   ]
  },
  {
   "cell_type": "markdown",
   "metadata": {},
   "source": [
    "## Step 3: Cleaning Our Data\n",
    "Under this section, we will check our dataset for;\n",
    "1. Missing values\n",
    "2. Outliers\n",
    "3. Structural errors"
   ]
  },
  {
   "cell_type": "markdown",
   "metadata": {},
   "source": [
    "#### a. Checking for nulls"
   ]
  },
  {
   "cell_type": "code",
   "execution_count": 98,
   "metadata": {},
   "outputs": [
    {
     "data": {
      "text/plain": [
       "Name        0\n",
       "Brand       0\n",
       "Category    0\n",
       "Shipping    0\n",
       "Price       0\n",
       "Offer       0\n",
       "Discount    0\n",
       "dtype: int64"
      ]
     },
     "execution_count": 98,
     "metadata": {},
     "output_type": "execute_result"
    }
   ],
   "source": [
    "jumia_offers.isnull().sum()\n",
    "#Our dataset has no missing values."
   ]
  },
  {
   "cell_type": "markdown",
   "metadata": {},
   "source": [
    "#### b. Plotting for outliers\n",
    "We will utilize scatter plots  and baxplots to check for outliers in the price and offer columns"
   ]
  },
  {
   "cell_type": "code",
   "execution_count": 99,
   "metadata": {},
   "outputs": [],
   "source": [
    "import seaborn\n",
    "import matplotlib\n",
    "%matplotlib inline"
   ]
  },
  {
   "cell_type": "code",
   "execution_count": 100,
   "metadata": {},
   "outputs": [
    {
     "data": {
      "text/plain": [
       "<AxesSubplot:>"
      ]
     },
     "execution_count": 100,
     "metadata": {},
     "output_type": "execute_result"
    },
    {
     "data": {
      "image/png": "[encoded data removed]",
      "text/plain": [
       "<Figure size 432x288 with 1 Axes>"
      ]
     },
     "metadata": {
      "needs_background": "light"
     },
     "output_type": "display_data"
    }
   ],
   "source": [
    "#Scatterplot1\n",
    "seaborn.scatterplot(data=jumia_offers[['Price','Offer']])"
   ]
  },
  {
   "cell_type": "code",
   "execution_count": 101,
   "metadata": {},
   "outputs": [
    {
     "data": {
      "text/plain": [
       "<AxesSubplot:>"
      ]
     },
     "execution_count": 101,
     "metadata": {},
     "output_type": "execute_result"
    },
    {
     "data": {
      "image/png": "[encoded data removed]",
      "text/plain": [
       "<Figure size 432x288 with 1 Axes>"
      ]
     },
     "metadata": {
      "needs_background": "light"
     },
     "output_type": "display_data"
    }
   ],
   "source": [
    "#Boxplot1\n",
    "seaborn.boxplot(data=jumia_offers[['Price','Offer']])"
   ]
  },
  {
   "cell_type": "markdown",
   "metadata": {},
   "source": [
    "From the two plots above, we can tell that the two numerical columns (price & offer) contain outliers."
   ]
  },
  {
   "cell_type": "markdown",
   "metadata": {},
   "source": [
    "#### C. Cleaning Outliers\n",
    "\n",
    "Under this section, we will utilize the standard deviation technique to remove outliers from our data."
   ]
  },
  {
   "cell_type": "code",
   "execution_count": 102,
   "metadata": {},
   "outputs": [
    {
     "data": {
      "text/plain": [
       "\"\\nOur function calculates the series mean and standard deviation then uses them to set the upper and lower bounds in our data.\\nIn this case we utilize '3 standard deviations' from the mean on both bounds.\""
      ]
     },
     "execution_count": 102,
     "metadata": {},
     "output_type": "execute_result"
    }
   ],
   "source": [
    "#Creating a custom function to check and filter out outliers from a given column\n",
    "def std_outlier(df):\n",
    "    avg=df.mean()\n",
    "    std=df.std()\n",
    "    upper_limit=avg+(3*std)\n",
    "    lower_limit=avg-(3*std)\n",
    "    clean_data=df[(df>lower_limit) & (df<upper_limit)]\n",
    "    return clean_data\n",
    "'''Our function calculates the series mean and standard deviation then uses them to set the upper and lower bounds in our data.\n",
    "In this case we utilize '3 standard deviations' from the mean on both bounds.'''"
   ]
  },
  {
   "cell_type": "code",
   "execution_count": 103,
   "metadata": {},
   "outputs": [],
   "source": [
    "clean_price=std_outlier(jumia_offers['Price'])\n",
    "\n",
    "clean_offer=std_outlier(jumia_offers['Offer'])\n",
    "\n",
    "#Running this cell once removes the least amount of outliers possible.\n",
    "# If you want to increase the accuracy of 'cleaning' your data, you should run the cell multiple times.\n",
    "# Check the boxplots and scatter plots below to verify the changes in your dataset"
   ]
  },
  {
   "cell_type": "code",
   "execution_count": 104,
   "metadata": {},
   "outputs": [],
   "source": [
    "#Inserting the clean price and Offer values into our dataset\n",
    "jumia_offers['Price']=clean_price\n",
    "jumia_offers['Offer']=clean_offer"
   ]
  },
  {
   "cell_type": "code",
   "execution_count": 105,
   "metadata": {},
   "outputs": [
    {
     "data": {
      "text/plain": [
       "Name         0\n",
       "Brand        0\n",
       "Category     0\n",
       "Shipping     0\n",
       "Price       21\n",
       "Offer       26\n",
       "Discount     0\n",
       "dtype: int64"
      ]
     },
     "execution_count": 105,
     "metadata": {},
     "output_type": "execute_result"
    }
   ],
   "source": [
    "# Checking to see if the two columns have introduced any nulls in our dataset.\n",
    "jumia_offers.isnull().sum()"
   ]
  },
  {
   "cell_type": "code",
   "execution_count": 106,
   "metadata": {},
   "outputs": [
    {
     "data": {
      "text/html": [
       "<div>\n",
       "<style scoped>\n",
       "    .dataframe tbody tr th:only-of-type {\n",
       "        vertical-align: middle;\n",
       "    }\n",
       "\n",
       "    .dataframe tbody tr th {\n",
       "        vertical-align: top;\n",
       "    }\n",
       "\n",
       "    .dataframe thead th {\n",
       "        text-align: right;\n",
       "    }\n",
       "</style>\n",
       "<table border=\"1\" class=\"dataframe\">\n",
       "  <thead>\n",
       "    <tr style=\"text-align: right;\">\n",
       "      <th></th>\n",
       "      <th>Name</th>\n",
       "      <th>Brand</th>\n",
       "      <th>Category</th>\n",
       "      <th>Shipping</th>\n",
       "      <th>Price</th>\n",
       "      <th>Offer</th>\n",
       "      <th>Discount</th>\n",
       "    </tr>\n",
       "  </thead>\n",
       "  <tbody>\n",
       "    <tr>\n",
       "      <th>27</th>\n",
       "      <td>【Free Shp + R Deal + Limited Offer】800M Seah R...</td>\n",
       "      <td>Generic</td>\n",
       "      <td>Garden &amp; Outdoors/Outdoor Power Tools/Metal De...</td>\n",
       "      <td>Shipped from abroad</td>\n",
       "      <td>NaN</td>\n",
       "      <td>NaN</td>\n",
       "      <td>50</td>\n",
       "    </tr>\n",
       "    <tr>\n",
       "      <th>73</th>\n",
       "      <td>【r Deal + Limited Offer】Variable Frequency Dri...</td>\n",
       "      <td>Generic</td>\n",
       "      <td>Home &amp; Office/Tools &amp; Home Improvement/Electri...</td>\n",
       "      <td>Shipped from abroad</td>\n",
       "      <td>NaN</td>\n",
       "      <td>NaN</td>\n",
       "      <td>50</td>\n",
       "    </tr>\n",
       "    <tr>\n",
       "      <th>161</th>\n",
       "      <td>銆? + Super Deal + Limited Offer銆?Green 4.3Inch...</td>\n",
       "      <td>Generic</td>\n",
       "      <td>Automobile/Motorcycle &amp; Powersports/Accessorie...</td>\n",
       "      <td>Shipped from abroad</td>\n",
       "      <td>NaN</td>\n",
       "      <td>NaN</td>\n",
       "      <td>23</td>\n",
       "    </tr>\n",
       "    <tr>\n",
       "      <th>174</th>\n",
       "      <td>銆怱uper Deal + Limited Offer銆慥ariable Frequency...</td>\n",
       "      <td>Generic</td>\n",
       "      <td>Home &amp; Office/Tools &amp; Home Improvement/Power &amp;...</td>\n",
       "      <td>Shipped from abroad</td>\n",
       "      <td>NaN</td>\n",
       "      <td>NaN</td>\n",
       "      <td>23</td>\n",
       "    </tr>\n",
       "    <tr>\n",
       "      <th>246</th>\n",
       "      <td>140X Tibet Tibetan D Buddhist Copper Water Off...</td>\n",
       "      <td>Generic</td>\n",
       "      <td>Home &amp; Office/Home &amp; Kitchen/Home Decor/Home D...</td>\n",
       "      <td>Shipped from abroad</td>\n",
       "      <td>24885.0</td>\n",
       "      <td>NaN</td>\n",
       "      <td>23</td>\n",
       "    </tr>\n",
       "    <tr>\n",
       "      <th>396</th>\n",
       "      <td>銆? + Super Deal + Limited Offer銆?DOT Approved ...</td>\n",
       "      <td>Generic</td>\n",
       "      <td>Automobile/Motorcycle &amp; Powersports/Accessorie...</td>\n",
       "      <td>Shipped from abroad</td>\n",
       "      <td>NaN</td>\n",
       "      <td>16499.0</td>\n",
       "      <td>50</td>\n",
       "    </tr>\n",
       "    <tr>\n",
       "      <th>536</th>\n",
       "      <td>【r Deal + Limited Offer】Variable Frequency Dri...</td>\n",
       "      <td>Generic</td>\n",
       "      <td>Home &amp; Office/Tools &amp; Home Improvement/Electri...</td>\n",
       "      <td>Shipped from abroad</td>\n",
       "      <td>NaN</td>\n",
       "      <td>NaN</td>\n",
       "      <td>50</td>\n",
       "    </tr>\n",
       "    <tr>\n",
       "      <th>551</th>\n",
       "      <td>銆怓ree Shipping + Super Deal + Limited Offer銆?D...</td>\n",
       "      <td>Generic</td>\n",
       "      <td>Home &amp; Office/Tools &amp; Home Improvement/Power &amp;...</td>\n",
       "      <td>Shipped from abroad</td>\n",
       "      <td>NaN</td>\n",
       "      <td>NaN</td>\n",
       "      <td>50</td>\n",
       "    </tr>\n",
       "    <tr>\n",
       "      <th>565</th>\n",
       "      <td>【r Deal + Limited Offer】Variable Frequency Dri...</td>\n",
       "      <td>Generic</td>\n",
       "      <td>Home &amp; Office/Tools &amp; Home Improvement/Electri...</td>\n",
       "      <td>Shipped from abroad</td>\n",
       "      <td>NaN</td>\n",
       "      <td>NaN</td>\n",
       "      <td>50</td>\n",
       "    </tr>\n",
       "    <tr>\n",
       "      <th>581</th>\n",
       "      <td>Buddha Utensils Special S Offer Temple Ornamen...</td>\n",
       "      <td>Generic</td>\n",
       "      <td>Home &amp; Office/Home &amp; Kitchen/Kitchen &amp; Dining/...</td>\n",
       "      <td>Shipped from abroad</td>\n",
       "      <td>NaN</td>\n",
       "      <td>NaN</td>\n",
       "      <td>50</td>\n",
       "    </tr>\n",
       "    <tr>\n",
       "      <th>611</th>\n",
       "      <td>【Free Shp + R Deal + Limited Offer】3reen  Leve...</td>\n",
       "      <td>Generic</td>\n",
       "      <td>Home &amp; Office/Tools &amp; Home Improvement/Electri...</td>\n",
       "      <td>Shipped from abroad</td>\n",
       "      <td>NaN</td>\n",
       "      <td>NaN</td>\n",
       "      <td>50</td>\n",
       "    </tr>\n",
       "    <tr>\n",
       "      <th>646</th>\n",
       "      <td>【r Deal + Limited Offer】Variable Frequency Dri...</td>\n",
       "      <td>Generic</td>\n",
       "      <td>Home &amp; Office/Tools &amp; Home Improvement/Electri...</td>\n",
       "      <td>Shipped from abroad</td>\n",
       "      <td>NaN</td>\n",
       "      <td>NaN</td>\n",
       "      <td>50</td>\n",
       "    </tr>\n",
       "    <tr>\n",
       "      <th>727</th>\n",
       "      <td>350X Tibet Tibetan M Buddhist Copper Water Off...</td>\n",
       "      <td>Generic</td>\n",
       "      <td>Home &amp; Office/Home &amp; Kitchen/Home Decor/Home D...</td>\n",
       "      <td>Shipped from abroad</td>\n",
       "      <td>NaN</td>\n",
       "      <td>NaN</td>\n",
       "      <td>50</td>\n",
       "    </tr>\n",
       "    <tr>\n",
       "      <th>851</th>\n",
       "      <td>Pond Liner Special Offer Black Impermeable Mem...</td>\n",
       "      <td>Generic</td>\n",
       "      <td>Home &amp; Office/Tools &amp; Home Improvement/Power &amp;...</td>\n",
       "      <td>Shipped from abroad</td>\n",
       "      <td>30034.0</td>\n",
       "      <td>NaN</td>\n",
       "      <td>29</td>\n",
       "    </tr>\n",
       "    <tr>\n",
       "      <th>911</th>\n",
       "      <td>AP9630 UPS Network Management Card 2 Offers</td>\n",
       "      <td>Generic</td>\n",
       "      <td>Computing/Computers &amp; Accessories/Computer Com...</td>\n",
       "      <td>Shipped from abroad</td>\n",
       "      <td>NaN</td>\n",
       "      <td>NaN</td>\n",
       "      <td>50</td>\n",
       "    </tr>\n",
       "    <tr>\n",
       "      <th>978</th>\n",
       "      <td>140X Tibet Tibetan O Buddhist Copper Water Off...</td>\n",
       "      <td>Generic</td>\n",
       "      <td>Home &amp; Office/Home &amp; Kitchen/Home Decor/Home D...</td>\n",
       "      <td>Shipped from abroad</td>\n",
       "      <td>24885.0</td>\n",
       "      <td>NaN</td>\n",
       "      <td>23</td>\n",
       "    </tr>\n",
       "    <tr>\n",
       "      <th>1013</th>\n",
       "      <td>銆怓ree Shipping + Super Deal + Limited Offer銆?D...</td>\n",
       "      <td>Generic</td>\n",
       "      <td>Home &amp; Office/Tools &amp; Home Improvement/Power &amp;...</td>\n",
       "      <td>Shipped from abroad</td>\n",
       "      <td>NaN</td>\n",
       "      <td>NaN</td>\n",
       "      <td>23</td>\n",
       "    </tr>\n",
       "    <tr>\n",
       "      <th>1106</th>\n",
       "      <td>銆? + Super Deal + Limited Offer銆?DOT Approved ...</td>\n",
       "      <td>Generic</td>\n",
       "      <td>Automobile/Motorcycle &amp; Powersports/Accessorie...</td>\n",
       "      <td>Shipped from abroad</td>\n",
       "      <td>24602.0</td>\n",
       "      <td>NaN</td>\n",
       "      <td>23</td>\n",
       "    </tr>\n",
       "    <tr>\n",
       "      <th>1130</th>\n",
       "      <td>140X Tibet Tibetan G Buddhist Copper Water Off...</td>\n",
       "      <td>Generic</td>\n",
       "      <td>Home &amp; Office/Home &amp; Kitchen/Home Decor/Home D...</td>\n",
       "      <td>Shipped from abroad</td>\n",
       "      <td>24631.0</td>\n",
       "      <td>NaN</td>\n",
       "      <td>23</td>\n",
       "    </tr>\n",
       "    <tr>\n",
       "      <th>1204</th>\n",
       "      <td>140X Tibet Tibetan P Buddhist Copper Water Off...</td>\n",
       "      <td>Generic</td>\n",
       "      <td>Home &amp; Office/Home &amp; Kitchen/Home Decor/Home D...</td>\n",
       "      <td>Shipped from abroad</td>\n",
       "      <td>24631.0</td>\n",
       "      <td>NaN</td>\n",
       "      <td>23</td>\n",
       "    </tr>\n",
       "    <tr>\n",
       "      <th>1225</th>\n",
       "      <td>銆? + Super Deal + Limited Offer銆?Green 4.3Inch...</td>\n",
       "      <td>Generic</td>\n",
       "      <td>Automobile/Motorcycle &amp; Powersports/Accessorie...</td>\n",
       "      <td>Shipped from abroad</td>\n",
       "      <td>NaN</td>\n",
       "      <td>NaN</td>\n",
       "      <td>50</td>\n",
       "    </tr>\n",
       "    <tr>\n",
       "      <th>1277</th>\n",
       "      <td>銆怱uper Deal + Limited Offer銆慥ariable Frequency...</td>\n",
       "      <td>Generic</td>\n",
       "      <td>Home &amp; Office/Tools &amp; Home Improvement/Power &amp;...</td>\n",
       "      <td>Shipped from abroad</td>\n",
       "      <td>NaN</td>\n",
       "      <td>NaN</td>\n",
       "      <td>23</td>\n",
       "    </tr>\n",
       "    <tr>\n",
       "      <th>1278</th>\n",
       "      <td>銆怱uper Deal + Limited Offer銆慥ariable Frequency...</td>\n",
       "      <td>Generic</td>\n",
       "      <td>Home &amp; Office/Tools &amp; Home Improvement/Power &amp;...</td>\n",
       "      <td>Shipped from abroad</td>\n",
       "      <td>NaN</td>\n",
       "      <td>NaN</td>\n",
       "      <td>23</td>\n",
       "    </tr>\n",
       "    <tr>\n",
       "      <th>1388</th>\n",
       "      <td>銆怱uper Deal + Limited Offer銆慥ariable Frequency...</td>\n",
       "      <td>Generic</td>\n",
       "      <td>Home &amp; Office/Tools &amp; Home Improvement/Power &amp;...</td>\n",
       "      <td>Shipped from abroad</td>\n",
       "      <td>NaN</td>\n",
       "      <td>NaN</td>\n",
       "      <td>23</td>\n",
       "    </tr>\n",
       "    <tr>\n",
       "      <th>1389</th>\n",
       "      <td>銆怱uper Deal + Limited Offer銆慥ariable Frequency...</td>\n",
       "      <td>Generic</td>\n",
       "      <td>Home &amp; Office/Tools &amp; Home Improvement/Power &amp;...</td>\n",
       "      <td>Shipped from abroad</td>\n",
       "      <td>NaN</td>\n",
       "      <td>NaN</td>\n",
       "      <td>23</td>\n",
       "    </tr>\n",
       "    <tr>\n",
       "      <th>1393</th>\n",
       "      <td>銆怱uper Deal + Limited Offer銆慥ariable Frequency...</td>\n",
       "      <td>Generic</td>\n",
       "      <td>Home &amp; Office/Tools &amp; Home Improvement/Power &amp;...</td>\n",
       "      <td>Shipped from abroad</td>\n",
       "      <td>NaN</td>\n",
       "      <td>NaN</td>\n",
       "      <td>23</td>\n",
       "    </tr>\n",
       "    <tr>\n",
       "      <th>1394</th>\n",
       "      <td>銆怱uper Deal + Limited Offer銆慥ariable Frequency...</td>\n",
       "      <td>Generic</td>\n",
       "      <td>Home &amp; Office/Tools &amp; Home Improvement/Power &amp;...</td>\n",
       "      <td>Shipped from abroad</td>\n",
       "      <td>NaN</td>\n",
       "      <td>NaN</td>\n",
       "      <td>23</td>\n",
       "    </tr>\n",
       "  </tbody>\n",
       "</table>\n",
       "</div>"
      ],
      "text/plain": [
       "                                                   Name    Brand  \\\n",
       "27    【Free Shp + R Deal + Limited Offer】800M Seah R...  Generic   \n",
       "73    【r Deal + Limited Offer】Variable Frequency Dri...  Generic   \n",
       "161   銆? + Super Deal + Limited Offer銆?Green 4.3Inch...  Generic   \n",
       "174   銆怱uper Deal + Limited Offer銆慥ariable Frequency...  Generic   \n",
       "246   140X Tibet Tibetan D Buddhist Copper Water Off...  Generic   \n",
       "396   銆? + Super Deal + Limited Offer銆?DOT Approved ...  Generic   \n",
       "536   【r Deal + Limited Offer】Variable Frequency Dri...  Generic   \n",
       "551   銆怓ree Shipping + Super Deal + Limited Offer銆?D...  Generic   \n",
       "565   【r Deal + Limited Offer】Variable Frequency Dri...  Generic   \n",
       "581   Buddha Utensils Special S Offer Temple Ornamen...  Generic   \n",
       "611   【Free Shp + R Deal + Limited Offer】3reen  Leve...  Generic   \n",
       "646   【r Deal + Limited Offer】Variable Frequency Dri...  Generic   \n",
       "727   350X Tibet Tibetan M Buddhist Copper Water Off...  Generic   \n",
       "851   Pond Liner Special Offer Black Impermeable Mem...  Generic   \n",
       "911         AP9630 UPS Network Management Card 2 Offers  Generic   \n",
       "978   140X Tibet Tibetan O Buddhist Copper Water Off...  Generic   \n",
       "1013  銆怓ree Shipping + Super Deal + Limited Offer銆?D...  Generic   \n",
       "1106  銆? + Super Deal + Limited Offer銆?DOT Approved ...  Generic   \n",
       "1130  140X Tibet Tibetan G Buddhist Copper Water Off...  Generic   \n",
       "1204  140X Tibet Tibetan P Buddhist Copper Water Off...  Generic   \n",
       "1225  銆? + Super Deal + Limited Offer銆?Green 4.3Inch...  Generic   \n",
       "1277  銆怱uper Deal + Limited Offer銆慥ariable Frequency...  Generic   \n",
       "1278  銆怱uper Deal + Limited Offer銆慥ariable Frequency...  Generic   \n",
       "1388  銆怱uper Deal + Limited Offer銆慥ariable Frequency...  Generic   \n",
       "1389  銆怱uper Deal + Limited Offer銆慥ariable Frequency...  Generic   \n",
       "1393  銆怱uper Deal + Limited Offer銆慥ariable Frequency...  Generic   \n",
       "1394  銆怱uper Deal + Limited Offer銆慥ariable Frequency...  Generic   \n",
       "\n",
       "                                               Category             Shipping  \\\n",
       "27    Garden & Outdoors/Outdoor Power Tools/Metal De...  Shipped from abroad   \n",
       "73    Home & Office/Tools & Home Improvement/Electri...  Shipped from abroad   \n",
       "161   Automobile/Motorcycle & Powersports/Accessorie...  Shipped from abroad   \n",
       "174   Home & Office/Tools & Home Improvement/Power &...  Shipped from abroad   \n",
       "246   Home & Office/Home & Kitchen/Home Decor/Home D...  Shipped from abroad   \n",
       "396   Automobile/Motorcycle & Powersports/Accessorie...  Shipped from abroad   \n",
       "536   Home & Office/Tools & Home Improvement/Electri...  Shipped from abroad   \n",
       "551   Home & Office/Tools & Home Improvement/Power &...  Shipped from abroad   \n",
       "565   Home & Office/Tools & Home Improvement/Electri...  Shipped from abroad   \n",
       "581   Home & Office/Home & Kitchen/Kitchen & Dining/...  Shipped from abroad   \n",
       "611   Home & Office/Tools & Home Improvement/Electri...  Shipped from abroad   \n",
       "646   Home & Office/Tools & Home Improvement/Electri...  Shipped from abroad   \n",
       "727   Home & Office/Home & Kitchen/Home Decor/Home D...  Shipped from abroad   \n",
       "851   Home & Office/Tools & Home Improvement/Power &...  Shipped from abroad   \n",
       "911   Computing/Computers & Accessories/Computer Com...  Shipped from abroad   \n",
       "978   Home & Office/Home & Kitchen/Home Decor/Home D...  Shipped from abroad   \n",
       "1013  Home & Office/Tools & Home Improvement/Power &...  Shipped from abroad   \n",
       "1106  Automobile/Motorcycle & Powersports/Accessorie...  Shipped from abroad   \n",
       "1130  Home & Office/Home & Kitchen/Home Decor/Home D...  Shipped from abroad   \n",
       "1204  Home & Office/Home & Kitchen/Home Decor/Home D...  Shipped from abroad   \n",
       "1225  Automobile/Motorcycle & Powersports/Accessorie...  Shipped from abroad   \n",
       "1277  Home & Office/Tools & Home Improvement/Power &...  Shipped from abroad   \n",
       "1278  Home & Office/Tools & Home Improvement/Power &...  Shipped from abroad   \n",
       "1388  Home & Office/Tools & Home Improvement/Power &...  Shipped from abroad   \n",
       "1389  Home & Office/Tools & Home Improvement/Power &...  Shipped from abroad   \n",
       "1393  Home & Office/Tools & Home Improvement/Power &...  Shipped from abroad   \n",
       "1394  Home & Office/Tools & Home Improvement/Power &...  Shipped from abroad   \n",
       "\n",
       "        Price    Offer  Discount  \n",
       "27        NaN      NaN        50  \n",
       "73        NaN      NaN        50  \n",
       "161       NaN      NaN        23  \n",
       "174       NaN      NaN        23  \n",
       "246   24885.0      NaN        23  \n",
       "396       NaN  16499.0        50  \n",
       "536       NaN      NaN        50  \n",
       "551       NaN      NaN        50  \n",
       "565       NaN      NaN        50  \n",
       "581       NaN      NaN        50  \n",
       "611       NaN      NaN        50  \n",
       "646       NaN      NaN        50  \n",
       "727       NaN      NaN        50  \n",
       "851   30034.0      NaN        29  \n",
       "911       NaN      NaN        50  \n",
       "978   24885.0      NaN        23  \n",
       "1013      NaN      NaN        23  \n",
       "1106  24602.0      NaN        23  \n",
       "1130  24631.0      NaN        23  \n",
       "1204  24631.0      NaN        23  \n",
       "1225      NaN      NaN        50  \n",
       "1277      NaN      NaN        23  \n",
       "1278      NaN      NaN        23  \n",
       "1388      NaN      NaN        23  \n",
       "1389      NaN      NaN        23  \n",
       "1393      NaN      NaN        23  \n",
       "1394      NaN      NaN        23  "
      ]
     },
     "execution_count": 106,
     "metadata": {},
     "output_type": "execute_result"
    }
   ],
   "source": [
    "# Checking for entries whose values have been flagged as outliers.\n",
    "jumia_offers[(jumia_offers['Price'].isnull()) | (jumia_offers['Offer'].isnull())]"
   ]
  },
  {
   "cell_type": "code",
   "execution_count": 107,
   "metadata": {},
   "outputs": [
    {
     "data": {
      "text/plain": [
       "0.6021780909673287"
      ]
     },
     "execution_count": 107,
     "metadata": {},
     "output_type": "execute_result"
    }
   ],
   "source": [
    "# Estimating the percentage of missing values\n",
    "total_observations=np.product(jumia_offers.shape)\n",
    "missing_observations=jumia_offers.isnull().sum().sum()\n",
    "Null_ppercentage=(missing_observations/total_observations)*100\n",
    "Null_ppercentage\n",
    "#This percentage informs us on the technique to be used when handling nulls."
   ]
  },
  {
   "cell_type": "markdown",
   "metadata": {},
   "source": [
    "#### d. Handling Missing values\n",
    "\n",
    "In our case only 0.60% of our observations contains null values. This is a very small percentage and we can get away with dropping those values.\n",
    "\n",
    "This percentage will vary depending on how many times you ran the outlier removal function.\n",
    "\n",
    "If the percentage is significant, consider handling your missing values differently by filling them with column averages.\n"
   ]
  },
  {
   "cell_type": "code",
   "execution_count": 108,
   "metadata": {},
   "outputs": [],
   "source": [
    "# Lets create another copy of our data set containing null values for future reference\n",
    "clean_data=jumia_offers.copy()\n"
   ]
  },
  {
   "cell_type": "code",
   "execution_count": 109,
   "metadata": {},
   "outputs": [],
   "source": [
    "# Dropping null values in our new dataset\n",
    "clean_data.dropna(inplace=True)"
   ]
  },
  {
   "cell_type": "code",
   "execution_count": 110,
   "metadata": {},
   "outputs": [
    {
     "data": {
      "text/plain": [
       "<AxesSubplot:>"
      ]
     },
     "execution_count": 110,
     "metadata": {},
     "output_type": "execute_result"
    },
    {
     "data": {
      "image/png": "[encoded data removed]",
      "text/plain": [
       "<Figure size 432x288 with 1 Axes>"
      ]
     },
     "metadata": {
      "needs_background": "light"
     },
     "output_type": "display_data"
    }
   ],
   "source": [
    "seaborn.scatterplot(data=clean_data[['Price','Offer']])"
   ]
  },
  {
   "cell_type": "code",
   "execution_count": 111,
   "metadata": {},
   "outputs": [
    {
     "data": {
      "text/plain": [
       "<AxesSubplot:>"
      ]
     },
     "execution_count": 111,
     "metadata": {},
     "output_type": "execute_result"
    },
    {
     "data": {
      "image/png": "[encoded data removed]",
      "text/plain": [
       "<Figure size 432x288 with 1 Axes>"
      ]
     },
     "metadata": {
      "needs_background": "light"
     },
     "output_type": "display_data"
    }
   ],
   "source": [
    "seaborn.boxplot(data=clean_data[['Price','Offer']])"
   ]
  },
  {
   "cell_type": "code",
   "execution_count": 112,
   "metadata": {},
   "outputs": [
    {
     "name": "stdout",
     "output_type": "stream",
     "text": [
      "<class 'pandas.core.frame.DataFrame'>\n",
      "Int64Index: 1088 entries, 0 to 1539\n",
      "Data columns (total 7 columns):\n",
      " #   Column    Non-Null Count  Dtype  \n",
      "---  ------    --------------  -----  \n",
      " 0   Name      1088 non-null   object \n",
      " 1   Brand     1088 non-null   object \n",
      " 2   Category  1088 non-null   object \n",
      " 3   Shipping  1088 non-null   object \n",
      " 4   Price     1088 non-null   float64\n",
      " 5   Offer     1088 non-null   float64\n",
      " 6   Discount  1088 non-null   int64  \n",
      "dtypes: float64(2), int64(1), object(4)\n",
      "memory usage: 68.0+ KB\n"
     ]
    }
   ],
   "source": [
    "clean_data.info()"
   ]
  },
  {
   "cell_type": "markdown",
   "metadata": {},
   "source": [
    "From the two plots above, we can tell that some outliers have been removed from the dataset. The .info() method indicates that the new number of row entries is 1,126."
   ]
  },
  {
   "cell_type": "markdown",
   "metadata": {},
   "source": [
    "#### e. Fixing Structural errors in strings\n",
    "\n",
    "In this section we will clean our dataset by fixing structural/format issues in columns containing string values."
   ]
  },
  {
   "cell_type": "code",
   "execution_count": 113,
   "metadata": {},
   "outputs": [
    {
     "data": {
      "text/html": [
       "<div>\n",
       "<style scoped>\n",
       "    .dataframe tbody tr th:only-of-type {\n",
       "        vertical-align: middle;\n",
       "    }\n",
       "\n",
       "    .dataframe tbody tr th {\n",
       "        vertical-align: top;\n",
       "    }\n",
       "\n",
       "    .dataframe thead th {\n",
       "        text-align: right;\n",
       "    }\n",
       "</style>\n",
       "<table border=\"1\" class=\"dataframe\">\n",
       "  <thead>\n",
       "    <tr style=\"text-align: right;\">\n",
       "      <th></th>\n",
       "      <th>Name</th>\n",
       "      <th>Category</th>\n",
       "    </tr>\n",
       "  </thead>\n",
       "  <tbody>\n",
       "    <tr>\n",
       "      <th>1535</th>\n",
       "      <td>Ast Deal + Limited Offerall Hooks Home Towel C...</td>\n",
       "      <td>Home &amp; Office/Tools &amp; Home Improvement/Hardwar...</td>\n",
       "    </tr>\n",
       "    <tr>\n",
       "      <th>1536</th>\n",
       "      <td>Ast Deal + Limited Offerall Hooks Home Towel C...</td>\n",
       "      <td>Home &amp; Office/Tools &amp; Home Improvement/Hardwar...</td>\n",
       "    </tr>\n",
       "    <tr>\n",
       "      <th>1537</th>\n",
       "      <td>Ast Deal + Limited Offerall Hooks Home Towel C...</td>\n",
       "      <td>Home &amp; Office/Tools &amp; Home Improvement/Hardwar...</td>\n",
       "    </tr>\n",
       "    <tr>\n",
       "      <th>1538</th>\n",
       "      <td>? + Super Deal Limited OfferGEHR1212-2 Externa...</td>\n",
       "      <td>Garden &amp; Outdoors/Gardening &amp; Lawn Care/Hand T...</td>\n",
       "    </tr>\n",
       "    <tr>\n",
       "      <th>1539</th>\n",
       "      <td>Ast Deal + Limited Offerall Hooks Home Towel C...</td>\n",
       "      <td>Home &amp; Office/Tools &amp; Home Improvement/Hardwar...</td>\n",
       "    </tr>\n",
       "  </tbody>\n",
       "</table>\n",
       "</div>"
      ],
      "text/plain": [
       "                                                   Name  \\\n",
       "1535  Ast Deal + Limited Offerall Hooks Home Towel C...   \n",
       "1536  Ast Deal + Limited Offerall Hooks Home Towel C...   \n",
       "1537  Ast Deal + Limited Offerall Hooks Home Towel C...   \n",
       "1538  ? + Super Deal Limited OfferGEHR1212-2 Externa...   \n",
       "1539  Ast Deal + Limited Offerall Hooks Home Towel C...   \n",
       "\n",
       "                                               Category  \n",
       "1535  Home & Office/Tools & Home Improvement/Hardwar...  \n",
       "1536  Home & Office/Tools & Home Improvement/Hardwar...  \n",
       "1537  Home & Office/Tools & Home Improvement/Hardwar...  \n",
       "1538  Garden & Outdoors/Gardening & Lawn Care/Hand T...  \n",
       "1539  Home & Office/Tools & Home Improvement/Hardwar...  "
      ]
     },
     "execution_count": 113,
     "metadata": {},
     "output_type": "execute_result"
    }
   ],
   "source": [
    "clean_data[['Name','Category']].tail()"
   ]
  },
  {
   "cell_type": "markdown",
   "metadata": {},
   "source": [
    "As you can see, the name column contains irrelevant strings and symbols that need to be removed.\n",
    "The category column also needs to be restructured from sub categories to main categories for analysis"
   ]
  },
  {
   "cell_type": "code",
   "execution_count": 114,
   "metadata": {},
   "outputs": [],
   "source": [
    "# We will utilize list expression to create a list of all the names and categories in the right format and then insert them in our dataframe\n",
    "clean_data['Name']=[name.split('+')[-1] for name in clean_data['Name']]\n",
    "clean_data['Category']=[category.split('/')[0] for category in clean_data['Category']]"
   ]
  },
  {
   "cell_type": "code",
   "execution_count": 115,
   "metadata": {},
   "outputs": [
    {
     "data": {
      "text/html": [
       "<div>\n",
       "<style scoped>\n",
       "    .dataframe tbody tr th:only-of-type {\n",
       "        vertical-align: middle;\n",
       "    }\n",
       "\n",
       "    .dataframe tbody tr th {\n",
       "        vertical-align: top;\n",
       "    }\n",
       "\n",
       "    .dataframe thead th {\n",
       "        text-align: right;\n",
       "    }\n",
       "</style>\n",
       "<table border=\"1\" class=\"dataframe\">\n",
       "  <thead>\n",
       "    <tr style=\"text-align: right;\">\n",
       "      <th></th>\n",
       "      <th>Name</th>\n",
       "      <th>Category</th>\n",
       "    </tr>\n",
       "  </thead>\n",
       "  <tbody>\n",
       "    <tr>\n",
       "      <th>1535</th>\n",
       "      <td>Limited Offerall Hooks Home Towel Clothe - Ho...</td>\n",
       "      <td>Home &amp; Office</td>\n",
       "    </tr>\n",
       "    <tr>\n",
       "      <th>1536</th>\n",
       "      <td>Limited Offerall Hooks Home Towel Clothe - Co...</td>\n",
       "      <td>Home &amp; Office</td>\n",
       "    </tr>\n",
       "    <tr>\n",
       "      <th>1537</th>\n",
       "      <td>Limited Offerall Hooks Home Towel Clothe - Co...</td>\n",
       "      <td>Home &amp; Office</td>\n",
       "    </tr>\n",
       "    <tr>\n",
       "      <th>1538</th>\n",
       "      <td>Super Deal Limited OfferGEHR1212-2 External G...</td>\n",
       "      <td>Garden &amp; Outdoors</td>\n",
       "    </tr>\n",
       "    <tr>\n",
       "      <th>1539</th>\n",
       "      <td>Limited Offerall Hooks Home Towel Clothe - Ho...</td>\n",
       "      <td>Home &amp; Office</td>\n",
       "    </tr>\n",
       "  </tbody>\n",
       "</table>\n",
       "</div>"
      ],
      "text/plain": [
       "                                                   Name           Category\n",
       "1535   Limited Offerall Hooks Home Towel Clothe - Ho...      Home & Office\n",
       "1536   Limited Offerall Hooks Home Towel Clothe - Co...      Home & Office\n",
       "1537   Limited Offerall Hooks Home Towel Clothe - Co...      Home & Office\n",
       "1538   Super Deal Limited OfferGEHR1212-2 External G...  Garden & Outdoors\n",
       "1539   Limited Offerall Hooks Home Towel Clothe - Ho...      Home & Office"
      ]
     },
     "execution_count": 115,
     "metadata": {},
     "output_type": "execute_result"
    }
   ],
   "source": [
    "clean_data[['Name','Category']].tail()"
   ]
  },
  {
   "cell_type": "markdown",
   "metadata": {},
   "source": [
    "## STEP 4: Performing Data Analysis\n",
    "\n",
    "So far we have done the following;\n",
    "\n",
    "1. Mined data from jumia.co.ke by web scraping\n",
    "2. Saved the mined data into an sqlite3 database\n",
    "3. Created a pandas dataframe by reading the sqlite3 database\n",
    "4. Performed EDA to understand the structure of our data\n",
    "5. Performed data cleaning by:\n",
    "\n",
    "       . Plotting for outliers in numerical columns using seaborn (boxplot & scatterplot) \n",
    "\n",
    "       . Removing Outliers using standard deviation outlier technique\n",
    "\n",
    "       . Removing structural errors from strings\n",
    "\n",
    "Our dataset is now ready for analysis\n",
    "       "
   ]
  },
  {
   "cell_type": "markdown",
   "metadata": {},
   "source": [
    "### Research Questions\n",
    "\n",
    "1. Is there a correlation between the price of products and their offers? If yes, is it possible to predict offers given price?\n",
    "2. How many product categories does jumia feature in offers?\n",
    "3. What are the top 5 categories with the most number of items on offer?\n",
    "4. What 5 categories have the least number of items on offer?\n",
    "5. What is the min, max, avereage and standard deviation of offer prices?\n",
    "6. How many products have the max and minimum discounts?\n",
    "7. Plot for the distribution of discounts. Is it normally distributed?\n",
    "8. Assuming there was only 1 item in stock when you ran this script;\n",
    "\n",
    "        . what is the value of all products on offer?\n",
    "\n",
    "        . What is the value of products in their given categories? \n",
    "        \n",
    "9. Split the dataset into train, validation and test groups and create a machine learning model to predict offers given prices.\n",
    "10. What is the significance of this project?\n"
   ]
  },
  {
   "cell_type": "markdown",
   "metadata": {},
   "source": [
    "Q1. Is there a correlation between the price of products and their offers? If yes, is it possible to predict offers given price? "
   ]
  },
  {
   "cell_type": "code",
   "execution_count": 116,
   "metadata": {},
   "outputs": [
    {
     "data": {
      "text/plain": [
       "0.9592332188250519"
      ]
     },
     "execution_count": 116,
     "metadata": {},
     "output_type": "execute_result"
    }
   ],
   "source": [
    "clean_data['Price'].corr(clean_data['Offer'])"
   ]
  },
  {
   "cell_type": "markdown",
   "metadata": {},
   "source": [
    "There is a strong positive correlation of 0.9593. You can accurately predict the offer given a price of a product"
   ]
  },
  {
   "cell_type": "markdown",
   "metadata": {},
   "source": [
    "Q2. How many product categories does jumia feature in offers?"
   ]
  },
  {
   "cell_type": "code",
   "execution_count": 117,
   "metadata": {},
   "outputs": [
    {
     "data": {
      "text/plain": [
       "18"
      ]
     },
     "execution_count": 117,
     "metadata": {},
     "output_type": "execute_result"
    }
   ],
   "source": [
    "clean_data['Category'].nunique()"
   ]
  },
  {
   "cell_type": "markdown",
   "metadata": {},
   "source": [
    "Q3. What are the top 5 categories with the most number of items on offer?"
   ]
  },
  {
   "cell_type": "code",
   "execution_count": 118,
   "metadata": {},
   "outputs": [
    {
     "data": {
      "text/plain": [
       "Home & Office        370\n",
       "Automobile           283\n",
       "Toys & Games         112\n",
       "Electronics           63\n",
       "Garden & Outdoors     50\n",
       "Name: Category, dtype: int64"
      ]
     },
     "execution_count": 118,
     "metadata": {},
     "output_type": "execute_result"
    }
   ],
   "source": [
    "clean_data['Category'].value_counts()[:5]"
   ]
  },
  {
   "cell_type": "code",
   "execution_count": 119,
   "metadata": {},
   "outputs": [
    {
     "data": {
      "text/plain": [
       "<AxesSubplot:ylabel='Category'>"
      ]
     },
     "execution_count": 119,
     "metadata": {},
     "output_type": "execute_result"
    },
    {
     "data": {
      "image/png": "[encoded data removed]",
      "text/plain": [
       "<Figure size 432x288 with 1 Axes>"
      ]
     },
     "metadata": {},
     "output_type": "display_data"
    }
   ],
   "source": [
    "#Plotting the 5 categories\n",
    "clean_data['Category'].value_counts()[:5].plot(kind='pie')"
   ]
  },
  {
   "cell_type": "markdown",
   "metadata": {},
   "source": [
    "Q4. What 5 categories have the least number of items on offer?"
   ]
  },
  {
   "cell_type": "code",
   "execution_count": 120,
   "metadata": {},
   "outputs": [
    {
     "data": {
      "text/plain": [
       "Gaming                     1\n",
       "Musical Instruments        2\n",
       "Baby Products              4\n",
       "Grocery                    6\n",
       "Books, Movies and Music    8\n",
       "Name: Category, dtype: int64"
      ]
     },
     "execution_count": 120,
     "metadata": {},
     "output_type": "execute_result"
    }
   ],
   "source": [
    "clean_data['Category'].value_counts(ascending=True)[:5]\n",
    "#or \n",
    "#clean_data['Category'].value_counts()[-5:]\n"
   ]
  },
  {
   "cell_type": "code",
   "execution_count": 121,
   "metadata": {},
   "outputs": [
    {
     "data": {
      "text/plain": [
       "<AxesSubplot:ylabel='Category'>"
      ]
     },
     "execution_count": 121,
     "metadata": {},
     "output_type": "execute_result"
    },
    {
     "data": {
      "image/png": "[encoded data removed]",
      "text/plain": [
       "<Figure size 432x288 with 1 Axes>"
      ]
     },
     "metadata": {},
     "output_type": "display_data"
    }
   ],
   "source": [
    "# Plotting the 5 last categories\n",
    "clean_data['Category'].value_counts(ascending=True)[:5].plot(kind='pie')"
   ]
  },
  {
   "cell_type": "markdown",
   "metadata": {},
   "source": [
    "Q5.  What is the min, max, avereage and standard deviation of offer prices?"
   ]
  },
  {
   "cell_type": "code",
   "execution_count": 122,
   "metadata": {},
   "outputs": [
    {
     "data": {
      "text/html": [
       "<div>\n",
       "<style scoped>\n",
       "    .dataframe tbody tr th:only-of-type {\n",
       "        vertical-align: middle;\n",
       "    }\n",
       "\n",
       "    .dataframe tbody tr th {\n",
       "        vertical-align: top;\n",
       "    }\n",
       "\n",
       "    .dataframe thead th {\n",
       "        text-align: right;\n",
       "    }\n",
       "</style>\n",
       "<table border=\"1\" class=\"dataframe\">\n",
       "  <thead>\n",
       "    <tr style=\"text-align: right;\">\n",
       "      <th></th>\n",
       "      <th>Price</th>\n",
       "      <th>Offer</th>\n",
       "    </tr>\n",
       "  </thead>\n",
       "  <tbody>\n",
       "    <tr>\n",
       "      <th>count</th>\n",
       "      <td>1088.000000</td>\n",
       "      <td>1088.000000</td>\n",
       "    </tr>\n",
       "    <tr>\n",
       "      <th>mean</th>\n",
       "      <td>4992.936581</td>\n",
       "      <td>3191.073529</td>\n",
       "    </tr>\n",
       "    <tr>\n",
       "      <th>std</th>\n",
       "      <td>4736.983115</td>\n",
       "      <td>2888.252831</td>\n",
       "    </tr>\n",
       "    <tr>\n",
       "      <th>min</th>\n",
       "      <td>172.000000</td>\n",
       "      <td>86.000000</td>\n",
       "    </tr>\n",
       "    <tr>\n",
       "      <th>25%</th>\n",
       "      <td>1997.000000</td>\n",
       "      <td>1467.500000</td>\n",
       "    </tr>\n",
       "    <tr>\n",
       "      <th>50%</th>\n",
       "      <td>3495.500000</td>\n",
       "      <td>2240.500000</td>\n",
       "    </tr>\n",
       "    <tr>\n",
       "      <th>75%</th>\n",
       "      <td>5826.000000</td>\n",
       "      <td>3699.000000</td>\n",
       "    </tr>\n",
       "    <tr>\n",
       "      <th>max</th>\n",
       "      <td>29598.000000</td>\n",
       "      <td>16862.000000</td>\n",
       "    </tr>\n",
       "  </tbody>\n",
       "</table>\n",
       "</div>"
      ],
      "text/plain": [
       "              Price         Offer\n",
       "count   1088.000000   1088.000000\n",
       "mean    4992.936581   3191.073529\n",
       "std     4736.983115   2888.252831\n",
       "min      172.000000     86.000000\n",
       "25%     1997.000000   1467.500000\n",
       "50%     3495.500000   2240.500000\n",
       "75%     5826.000000   3699.000000\n",
       "max    29598.000000  16862.000000"
      ]
     },
     "execution_count": 122,
     "metadata": {},
     "output_type": "execute_result"
    }
   ],
   "source": [
    "clean_data[['Price','Offer']].describe()"
   ]
  },
  {
   "cell_type": "markdown",
   "metadata": {},
   "source": [
    "Q6. How products has the max and minimum discounts?"
   ]
  },
  {
   "cell_type": "code",
   "execution_count": 123,
   "metadata": {},
   "outputs": [
    {
     "name": "stdout",
     "output_type": "stream",
     "text": [
      "maximum discount: 50%\n",
      "Number of products: 300\n"
     ]
    }
   ],
   "source": [
    "max_discount=clean_data[clean_data['Discount']==clean_data['Discount'].max()]['Name'].count()\n",
    "discount=clean_data['Discount'].max()\n",
    "print(f'maximum discount: {discount}%\\nNumber of products: {max_discount}')"
   ]
  },
  {
   "cell_type": "code",
   "execution_count": 124,
   "metadata": {},
   "outputs": [
    {
     "name": "stdout",
     "output_type": "stream",
     "text": [
      "minimum discount: 10%\n",
      "Number of products: 1\n"
     ]
    }
   ],
   "source": [
    "min_discount=clean_data[clean_data['Discount']==clean_data['Discount'].min()]['Name'].count()\n",
    "minimumd=clean_data['Discount'].min()\n",
    "print(f'minimum discount: {minimumd}%\\nNumber of products: {min_discount}')"
   ]
  },
  {
   "cell_type": "markdown",
   "metadata": {},
   "source": [
    "Q7. Plot for the distribution of discounts. Is it normally distributed?"
   ]
  },
  {
   "cell_type": "code",
   "execution_count": 125,
   "metadata": {},
   "outputs": [
    {
     "data": {
      "text/plain": [
       "<seaborn.axisgrid.FacetGrid at 0x24cafa06b20>"
      ]
     },
     "execution_count": 125,
     "metadata": {},
     "output_type": "execute_result"
    },
    {
     "data": {
      "image/png": "[encoded data removed]",
      "text/plain": [
       "<Figure size 360x360 with 1 Axes>"
      ]
     },
     "metadata": {
      "needs_background": "light"
     },
     "output_type": "display_data"
    }
   ],
   "source": [
    "seaborn.displot(data=clean_data['Price'])"
   ]
  },
  {
   "cell_type": "code",
   "execution_count": 126,
   "metadata": {},
   "outputs": [
    {
     "data": {
      "text/plain": [
       "<AxesSubplot:xlabel='Price', ylabel='Density'>"
      ]
     },
     "execution_count": 126,
     "metadata": {},
     "output_type": "execute_result"
    },
    {
     "data": {
      "image/png": "[encoded data removed]",
      "text/plain": [
       "<Figure size 432x288 with 1 Axes>"
      ]
     },
     "metadata": {
      "needs_background": "light"
     },
     "output_type": "display_data"
    }
   ],
   "source": [
    "seaborn.kdeplot(data=clean_data['Price'])"
   ]
  },
  {
   "cell_type": "code",
   "execution_count": 127,
   "metadata": {},
   "outputs": [
    {
     "data": {
      "text/plain": [
       "4992.936580882353"
      ]
     },
     "execution_count": 127,
     "metadata": {},
     "output_type": "execute_result"
    }
   ],
   "source": [
    "clean_data['Price'].mean()"
   ]
  },
  {
   "cell_type": "markdown",
   "metadata": {},
   "source": [
    "The price of products in our data set is a random variable following a normal distribution with mean 4,955"
   ]
  },
  {
   "cell_type": "markdown",
   "metadata": {},
   "source": [
    "Q8 a. what is the value of all products on offer?"
   ]
  },
  {
   "cell_type": "code",
   "execution_count": 128,
   "metadata": {},
   "outputs": [
    {
     "data": {
      "text/plain": [
       "5432315.0"
      ]
     },
     "execution_count": 128,
     "metadata": {},
     "output_type": "execute_result"
    }
   ],
   "source": [
    "clean_data['Price'].sum()"
   ]
  },
  {
   "cell_type": "markdown",
   "metadata": {},
   "source": [
    "Q8 b. What is the value of products in their given categories? "
   ]
  },
  {
   "cell_type": "code",
   "execution_count": 129,
   "metadata": {},
   "outputs": [
    {
     "data": {
      "text/plain": [
       "Category\n",
       "Automobile                 1042482.0\n",
       "Baby Products                33419.0\n",
       "Books, Movies and Music      13802.0\n",
       "Computing                    35507.0\n",
       "Electronics                 228526.0\n",
       "Fashion                     135164.0\n",
       "Gaming                        1967.0\n",
       "Garden & Outdoors           467012.0\n",
       "Grocery                      22358.0\n",
       "Health & Beauty             198676.0\n",
       "Home & Office              2375559.0\n",
       "Industrial & Scientific      79353.0\n",
       "Musical Instruments           6913.0\n",
       "Pet Supplies                 58084.0\n",
       "Phones & Tablets            151122.0\n",
       "Services                     72698.0\n",
       "Sporting Goods              123018.0\n",
       "Toys & Games                386655.0\n",
       "Name: Price, dtype: float64"
      ]
     },
     "execution_count": 129,
     "metadata": {},
     "output_type": "execute_result"
    }
   ],
   "source": [
    "clean_data.groupby('Category').sum()['Price']"
   ]
  },
  {
   "cell_type": "code",
   "execution_count": 130,
   "metadata": {},
   "outputs": [
    {
     "data": {
      "text/plain": [
       "<AxesSubplot:xlabel='Category'>"
      ]
     },
     "execution_count": 130,
     "metadata": {},
     "output_type": "execute_result"
    },
    {
     "data": {
      "image/png": "[encoded data removed]",
      "text/plain": [
       "<Figure size 432x288 with 1 Axes>"
      ]
     },
     "metadata": {
      "needs_background": "light"
     },
     "output_type": "display_data"
    }
   ],
   "source": [
    "clean_data.groupby('Category').sum()['Price'].plot(kind='bar')"
   ]
  }
 ],
 "metadata": {
  "kernelspec": {
   "display_name": "Python 3.9.7 ('base')",
   "language": "python",
   "name": "python3"
  },
  "language_info": {
   "codemirror_mode": {
    "name": "ipython",
    "version": 3
   },
   "file_extension": ".py",
   "mimetype": "text/x-python",
   "name": "python",
   "nbconvert_exporter": "python",
   "pygments_lexer": "ipython3",
   "version": "3.9.7"
  },
  "orig_nbformat": 4,
  "vscode": {
   "interpreter": {
    "hash": "491e8b6187b1dc1ce78e67287fb0e17f1d4cf233f16ab897d1449ebaecc2481f"
   }
  }
 },
 "nbformat": 4,
 "nbformat_minor": 2
}
